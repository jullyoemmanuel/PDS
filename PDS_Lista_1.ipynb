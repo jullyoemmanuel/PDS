{
  "nbformat": 4,
  "nbformat_minor": 0,
  "metadata": {
    "colab": {
      "provenance": [],
      "include_colab_link": true
    },
    "kernelspec": {
      "name": "python3",
      "display_name": "Python 3"
    },
    "language_info": {
      "name": "python"
    }
  },
  "cells": [
    {
      "cell_type": "markdown",
      "metadata": {
        "id": "view-in-github",
        "colab_type": "text"
      },
      "source": [
        "<a href=\"https://colab.research.google.com/github/jullyoemmanuel/PDS/blob/main/PDS_Lista_1.ipynb\" target=\"_parent\"><img src=\"https://colab.research.google.com/assets/colab-badge.svg\" alt=\"Open In Colab\"/></a>"
      ]
    },
    {
      "cell_type": "markdown",
      "metadata": {
        "id": "rygK008QxGp6"
      },
      "source": [
        "Download das bibliotecas necessárias"
      ]
    },
    {
      "cell_type": "markdown",
      "metadata": {
        "id": "-40BgFYxTnWJ"
      },
      "source": [
        "Importação das bibliotecas necessárias"
      ]
    },
    {
      "cell_type": "code",
      "metadata": {
        "id": "V-jIvk1cTnGJ"
      },
      "source": [
        "import numpy as np\n",
        "import matplotlib.pyplot as plt"
      ],
      "execution_count": null,
      "outputs": []
    },
    {
      "cell_type": "markdown",
      "metadata": {
        "id": "ESbdHfVaTURD"
      },
      "source": [
        "# 1 Funções de Sinal de Tempo Discreto"
      ]
    },
    {
      "cell_type": "markdown",
      "metadata": {
        "id": "VAA-KJVXThUJ"
      },
      "source": [
        "## 1.1 Gráficos de Funções de Sinal"
      ]
    },
    {
      "cell_type": "markdown",
      "metadata": {
        "id": "ZiK5F8fJ6t0t"
      },
      "source": [
        "### $ 1)  x[n] = 4cos(\\frac{2\\pi n}{12}) - 3sin(\\frac{2\\pi (n-2)}{8})$\n",
        "\n",
        "*   Item da lista\n",
        "\n",
        "\n"
      ]
    },
    {
      "cell_type": "code",
      "metadata": {
        "colab": {
          "base_uri": "https://localhost:8080/",
          "height": 350
        },
        "id": "pQUuHVCDH3Hy",
        "outputId": "ccaa0fa7-7cee-4139-f46e-2a4296cc50c8"
      },
      "source": [
        "n = np.arange(-24,25)\n",
        "x1 = 4 * np.cos(2 * np.pi * n / 12) - 3 * np.sin((2 * np.pi * (n - 2)) / 8)\n",
        "plt.stem(n,x1, linefmt = 'grey', markerfmt='D')\n",
        "plt.xlabel('N')\n",
        "plt.plot()"
      ],
      "execution_count": null,
      "outputs": [
        {
          "output_type": "stream",
          "text": [
            "/usr/local/lib/python3.7/dist-packages/ipykernel_launcher.py:3: UserWarning: In Matplotlib 3.3 individual lines on a stem plot will be added as a LineCollection instead of individual lines. This significantly improves the performance of a stem plot. To remove this warning and switch to the new behaviour, set the \"use_line_collection\" keyword argument to True.\n",
            "  This is separate from the ipykernel package so we can avoid doing imports until\n"
          ],
          "name": "stderr"
        },
        {
          "output_type": "execute_result",
          "data": {
            "text/plain": [
              "[]"
            ]
          },
          "metadata": {
            "tags": []
          },
          "execution_count": 3
        },
        {
          "output_type": "display_data",
          "data": {
            "image/png": "[encoded data removed]",
            "text/plain": [
              "<Figure size 432x288 with 1 Axes>"
            ]
          },
          "metadata": {
            "tags": [],
            "needs_background": "light"
          }
        }
      ]
    },
    {
      "cell_type": "markdown",
      "metadata": {
        "id": "JyQU64oWIL6L"
      },
      "source": [
        "### $ 2)x[n] = 3ne^-|\\frac{n}{5}|$"
      ]
    },
    {
      "cell_type": "code",
      "metadata": {
        "id": "YF2gnVGBILmz",
        "colab": {
          "base_uri": "https://localhost:8080/",
          "height": 350
        },
        "outputId": "8d4b6b23-1f2e-4981-c1e6-5098949eaaa9"
      },
      "source": [
        "n = np.arange(-20,21)\n",
        "x1 = 3 * np.exp(- abs(n/5)) \n",
        "plt.stem(n,x1, linefmt = 'grey', markerfmt='D')\n",
        "plt.xlabel('N')\n",
        "plt.plot()"
      ],
      "execution_count": null,
      "outputs": [
        {
          "output_type": "stream",
          "text": [
            "/usr/local/lib/python3.7/dist-packages/ipykernel_launcher.py:3: UserWarning: In Matplotlib 3.3 individual lines on a stem plot will be added as a LineCollection instead of individual lines. This significantly improves the performance of a stem plot. To remove this warning and switch to the new behaviour, set the \"use_line_collection\" keyword argument to True.\n",
            "  This is separate from the ipykernel package so we can avoid doing imports until\n"
          ],
          "name": "stderr"
        },
        {
          "output_type": "execute_result",
          "data": {
            "text/plain": [
              "[]"
            ]
          },
          "metadata": {
            "tags": []
          },
          "execution_count": 4
        },
        {
          "output_type": "display_data",
          "data": {
            "image/png": "[encoded data removed]",
            "text/plain": [
              "<Figure size 432x288 with 1 Axes>"
            ]
          },
          "metadata": {
            "tags": [],
            "needs_background": "light"
          }
        }
      ]
    },
    {
      "cell_type": "markdown",
      "metadata": {
        "id": "CDxxa0s2uV30"
      },
      "source": [
        "### $ 3)x[n] = 21(\\frac{n}{2})^2 + 14n^3$"
      ]
    },
    {
      "cell_type": "code",
      "metadata": {
        "id": "xveOweQW6xUN",
        "colab": {
          "base_uri": "https://localhost:8080/",
          "height": 385
        },
        "outputId": "ded83ebb-2440-4d3c-f5d4-e620e105ce49"
      },
      "source": [
        "n = np.arange(-5,6)\n",
        "x1 = 21 * (n/2) * (n/2) + 14 * n * n * n  \n",
        "plt.stem(n,x1, linefmt = 'grey', markerfmt='D')\n",
        "plt.xlabel('N')\n",
        "plt.subplot()"
      ],
      "execution_count": null,
      "outputs": [
        {
          "output_type": "stream",
          "text": [
            "/usr/local/lib/python3.7/dist-packages/ipykernel_launcher.py:3: UserWarning: In Matplotlib 3.3 individual lines on a stem plot will be added as a LineCollection instead of individual lines. This significantly improves the performance of a stem plot. To remove this warning and switch to the new behaviour, set the \"use_line_collection\" keyword argument to True.\n",
            "  This is separate from the ipykernel package so we can avoid doing imports until\n",
            "/usr/local/lib/python3.7/dist-packages/ipykernel_launcher.py:5: MatplotlibDeprecationWarning: Adding an axes using the same arguments as a previous axes currently reuses the earlier instance.  In a future version, a new instance will always be created and returned.  Meanwhile, this warning can be suppressed, and the future behavior ensured, by passing a unique label to each axes instance.\n",
            "  \"\"\"\n"
          ],
          "name": "stderr"
        },
        {
          "output_type": "execute_result",
          "data": {
            "text/plain": [
              "<matplotlib.axes._subplots.AxesSubplot at 0x7ff6a2e87d10>"
            ]
          },
          "metadata": {
            "tags": []
          },
          "execution_count": 5
        },
        {
          "output_type": "display_data",
          "data": {
            "image/png": "[encoded data removed]",
            "text/plain": [
              "<Figure size 432x288 with 1 Axes>"
            ]
          },
          "metadata": {
            "tags": [],
            "needs_background": "light"
          }
        }
      ]
    },
    {
      "cell_type": "markdown",
      "metadata": {
        "id": "WyweSb-JGvkR"
      },
      "source": [
        "## 1.2 Gráficos de Funções de Sinal"
      ]
    },
    {
      "cell_type": "markdown",
      "metadata": {
        "id": "FTMbqiOX8_us"
      },
      "source": [
        "Inicialmente, iremos gerar um vetor de tempo discreto $n$:"
      ]
    },
    {
      "cell_type": "code",
      "metadata": {
        "id": "_qKWOuRiG6DF"
      },
      "source": [
        "n = np.arange(-20,21) # Vetor de tempo discreto, vai de -20 a 20"
      ],
      "execution_count": null,
      "outputs": []
    },
    {
      "cell_type": "markdown",
      "metadata": {
        "id": "p0Um8UZh-WnY"
      },
      "source": [
        "Em seguida, geramos ambas as funções e plotamos, para conferência."
      ]
    },
    {
      "cell_type": "markdown",
      "metadata": {
        "id": "cFhTdiFTJhXZ"
      },
      "source": [
        "### $x_1[n] = 5cos(\\frac{2\\pi n}{8})$"
      ]
    },
    {
      "cell_type": "code",
      "metadata": {
        "colab": {
          "base_uri": "https://localhost:8080/",
          "height": 265
        },
        "id": "fJVwm04wQL-Q",
        "outputId": "b05dd71f-5c03-4703-815a-2dadb2b3794a"
      },
      "source": [
        "def func_x1(n):\n",
        "  return 5 * np.cos(2 * np.pi * n / 8) # A função retorna o x1[n]\n",
        "x1 = func_x1(n) # O x1[n] é armazenado em uma variável\n",
        "plt.stem(n,x1,use_line_collection=True) # Plota x1[n]\n",
        "plt.show()"
      ],
      "execution_count": null,
      "outputs": [
        {
          "output_type": "display_data",
          "data": {
            "image/png": "[encoded data removed]",
            "text/plain": [
              "<Figure size 432x288 with 1 Axes>"
            ]
          },
          "metadata": {
            "tags": [],
            "needs_background": "light"
          }
        }
      ]
    },
    {
      "cell_type": "markdown",
      "metadata": {
        "id": "GHYaZsslLO85"
      },
      "source": [
        "\n",
        "### $x_2[n] = -8e^{({\\frac{-n}{6}})^2}$\n"
      ]
    },
    {
      "cell_type": "code",
      "metadata": {
        "colab": {
          "base_uri": "https://localhost:8080/",
          "height": 265
        },
        "id": "qi64tlONRsz3",
        "outputId": "77d58644-a64f-407a-8f1a-e95a1834b6ca"
      },
      "source": [
        "def func_x2(n):\n",
        "  return -8 * np.exp(np.power(-n / 6,2)) # A função retorna o x2[n]\n",
        "x2=func_x2(n) # O x2[n] é armazenado em uma variável\n",
        "plt.stem(n,x2,use_line_collection=True) # Plota x2[n]\n",
        "plt.show()"
      ],
      "execution_count": null,
      "outputs": [
        {
          "output_type": "display_data",
          "data": {
            "image/png": "[encoded data removed]",
            "text/plain": [
              "<Figure size 432x288 with 1 Axes>"
            ]
          },
          "metadata": {
            "tags": [],
            "needs_background": "light"
          }
        }
      ]
    },
    {
      "cell_type": "markdown",
      "metadata": {
        "id": "RGfaBS4--e_3"
      },
      "source": [
        "Em seguida, geramos a função correspondente a cada item da questão."
      ]
    },
    {
      "cell_type": "markdown",
      "metadata": {
        "id": "0Yh_FJ5iUnm-"
      },
      "source": [
        "### 1.2.1 $x_1[n]x_2[n] $"
      ]
    },
    {
      "cell_type": "code",
      "metadata": {
        "colab": {
          "base_uri": "https://localhost:8080/",
          "height": 276
        },
        "id": "ldInFHfZU487",
        "outputId": "ed19e001-62a8-4d5c-8d64-a6d04aa9a343"
      },
      "source": [
        "x3 = np.multiply(x1,x2)\n",
        "plt.stem(n,x3,use_line_collection=True)\n",
        "plt.show()"
      ],
      "execution_count": null,
      "outputs": [
        {
          "output_type": "display_data",
          "data": {
            "image/png": "[encoded data removed]",
            "text/plain": [
              "<Figure size 432x288 with 1 Axes>"
            ]
          },
          "metadata": {
            "tags": [],
            "needs_background": "light"
          }
        }
      ]
    },
    {
      "cell_type": "markdown",
      "metadata": {
        "id": "p-Cc4RWKY26_"
      },
      "source": [
        "### 1.2.2 $4x_1[n] + 2x_2[n] $\n"
      ]
    },
    {
      "cell_type": "code",
      "metadata": {
        "colab": {
          "base_uri": "https://localhost:8080/",
          "height": 276
        },
        "id": "PlZZFNg2ZlC3",
        "outputId": "1f768868-38f0-49c4-ba3e-7b2439c4d8fd"
      },
      "source": [
        "x4 = np.add(4*x1,2*x2)\n",
        "plt.stem(n,x4,use_line_collection=True)\n",
        "plt.show()"
      ],
      "execution_count": null,
      "outputs": [
        {
          "output_type": "display_data",
          "data": {
            "image/png": "[encoded data removed]",
            "text/plain": [
              "<Figure size 432x288 with 1 Axes>"
            ]
          },
          "metadata": {
            "tags": [],
            "needs_background": "light"
          }
        }
      ]
    },
    {
      "cell_type": "markdown",
      "metadata": {
        "id": "3-BXD5byaWjM"
      },
      "source": [
        "### 1.2.3 $x_1[2n]x_2[3n]$\n"
      ]
    },
    {
      "cell_type": "markdown",
      "metadata": {
        "id": "VandTm3SbMAv"
      },
      "source": [
        "#### Gerando $x_1(2n)$"
      ]
    },
    {
      "cell_type": "code",
      "metadata": {
        "colab": {
          "base_uri": "https://localhost:8080/",
          "height": 265
        },
        "id": "N25Bg1yJpoy0",
        "outputId": "6f9a1216-cbaa-4b66-ea89-2ff01bfc887e"
      },
      "source": [
        "plt.stem(n, func_x1(2*n), use_line_collection=True)\n",
        "plt.show()"
      ],
      "execution_count": null,
      "outputs": [
        {
          "output_type": "display_data",
          "data": {
            "image/png": "[encoded data removed]",
            "text/plain": [
              "<Figure size 432x288 with 1 Axes>"
            ]
          },
          "metadata": {
            "tags": [],
            "needs_background": "light"
          }
        }
      ]
    },
    {
      "cell_type": "markdown",
      "metadata": {
        "id": "PcqtoCZTbZxy"
      },
      "source": [
        "#### Gerando $ x_2(3n)$"
      ]
    },
    {
      "cell_type": "code",
      "metadata": {
        "colab": {
          "base_uri": "https://localhost:8080/",
          "height": 276
        },
        "id": "QiOR-kmqpsYF",
        "outputId": "c83d4ae6-5e9c-4b1c-8d28-053e2b6ebd33"
      },
      "source": [
        "plt.stem(n, func_x2(3*n), use_line_collection=True)\n",
        "plt.show()"
      ],
      "execution_count": null,
      "outputs": [
        {
          "output_type": "display_data",
          "data": {
            "image/png": "[encoded data removed]",
            "text/plain": [
              "<Figure size 432x288 with 1 Axes>"
            ]
          },
          "metadata": {
            "tags": [],
            "needs_background": "light"
          }
        }
      ]
    },
    {
      "cell_type": "markdown",
      "metadata": {
        "id": "o8jbLqLQfjh5"
      },
      "source": [
        "#### Multiplicando as funções após a expansão no tempo"
      ]
    },
    {
      "cell_type": "code",
      "metadata": {
        "id": "5kaedjvCqKnN",
        "colab": {
          "base_uri": "https://localhost:8080/",
          "height": 276
        },
        "outputId": "454f248d-467e-4905-ca7f-874eed63d4fa"
      },
      "source": [
        "plt.stem(n, func_x1(2*n) * func_x2(3*n), use_line_collection=True)\n",
        "plt.show()"
      ],
      "execution_count": null,
      "outputs": [
        {
          "output_type": "display_data",
          "data": {
            "image/png": "[encoded data removed]",
            "text/plain": [
              "<Figure size 432x288 with 1 Axes>"
            ]
          },
          "metadata": {
            "tags": [],
            "needs_background": "light"
          }
        }
      ]
    },
    {
      "cell_type": "markdown",
      "metadata": {
        "id": "RTBwjbmJbt1G"
      },
      "source": [
        "## 1.3 Funções de Acumulação"
      ]
    },
    {
      "cell_type": "markdown",
      "metadata": {
        "id": "D1kG5H1i6_HR"
      },
      "source": [
        "1.3.1\n",
        "---\n",
        "\n",
        " $h[n]=\\delta[n]u[n+16]$"
      ]
    },
    {
      "cell_type": "code",
      "metadata": {
        "id": "zWSdBogZbt1J",
        "colab": {
          "base_uri": "https://localhost:8080/",
          "height": 279
        },
        "outputId": "a288595e-7721-4de6-aa41-4a71a8d510e0"
      },
      "source": [
        "#Definição da função heaviside e da função impulso\n",
        "import numpy as np \n",
        "import matplotlib.pylab as plt\n",
        "from pylab import *\n",
        "def degrau(x):\n",
        "  y = np.zeros(len(x)) \n",
        "  for i in range(0,len(x)):\n",
        "    if x[i] >=0:\n",
        "      y[i] = 1.\n",
        "      p = np.cumsum(y)\n",
        "      return p\n",
        "def delta(n):\n",
        "    return where(n==0, 1, 0)\n",
        "##################################################\n",
        "n = np.arange(-20,21)\n",
        "x = delta(n)*degrau(n+16)\n",
        "h = np.cumsum(x) #funcao de acumulação\n",
        "plt.stem(n,h,use_line_collection= True)\n",
        "\n",
        "plt.xlabel('n')\n",
        "plt.ylabel(' X [n]')\n",
        "plt.show()"
      ],
      "execution_count": null,
      "outputs": [
        {
          "output_type": "display_data",
          "data": {
            "image/png": "[encoded data removed]",
            "text/plain": [
              "<Figure size 432x288 with 1 Axes>"
            ]
          },
          "metadata": {
            "tags": [],
            "needs_background": "light"
          }
        }
      ]
    },
    {
      "cell_type": "markdown",
      "metadata": {
        "id": "3BtnEHs5bt1M"
      },
      "source": [
        "1.3.2\n",
        "---\n",
        "$h[n]=u[n]u[n+16]$\n"
      ]
    },
    {
      "cell_type": "code",
      "metadata": {
        "id": "AL5-I1I2bt1N",
        "colab": {
          "base_uri": "https://localhost:8080/",
          "height": 279
        },
        "outputId": "06bd9239-0a75-46c0-8074-15b845cf0cbe"
      },
      "source": [
        "#Definição da função heaviside e da função impulso\n",
        "import numpy as np \n",
        "import matplotlib.pylab as plt\n",
        "from pylab import *\n",
        "def degrau(x):\n",
        "  y = np.zeros(len(x)) \n",
        "  for i in range(0,len(x)):\n",
        "    if x[i] >=0:\n",
        "      y[i] = 1.\n",
        "      p = np.cumsum(y)\n",
        "      return p\n",
        "\n",
        "def joaquim (minhapomba) \n",
        "  -> paciente 8 -> \n",
        "def delta(n):\n",
        "    return where(n==0, 1, 0)\n",
        "##################################################\n",
        "n = np.arange(-20,21)\n",
        "x = degrau(n)*degrau(n+16)\n",
        "h = np.cumsum(x) #funcao de acumulacao\n",
        "plt.stem(n,h,use_line_collection = True)\n",
        "\n",
        "plt.xlabel('n')\n",
        "plt.ylabel(' X [n]')\n",
        "plt.show()"
      ],
      "execution_count": null,
      "outputs": [
        {
          "output_type": "display_data",
          "data": {
            "image/png": "[encoded data removed]",
            "text/plain": [
              "<Figure size 432x288 with 1 Axes>"
            ]
          },
          "metadata": {
            "tags": [],
            "needs_background": "light"
          }
        }
      ]
    },
    {
      "cell_type": "markdown",
      "metadata": {
        "id": "WGQqXTBnb4Q4"
      },
      "source": [
        "### 1.4 Sinais Pares e Ímpares"
      ]
    },
    {
      "cell_type": "markdown",
      "metadata": {
        "id": "WpwVkXdTcM6j"
      },
      "source": [
        "### 1.4.1 $ X[n] = u[n] - u[n - 4] $\n"
      ]
    },
    {
      "cell_type": "code",
      "metadata": {
        "colab": {
          "base_uri": "https://localhost:8080/",
          "height": 296
        },
        "id": "uIA9oSpGjCLV",
        "outputId": "f51dfb7a-1a86-440d-fddc-4263b91cb25f"
      },
      "source": [
        "import numpy as np\n",
        "import matplotlib.pylab as plt\n",
        "from pylab import *\n",
        "#Definição da função degrau \n",
        "def degrau(x):\n",
        "  y = np.zeros(len(x)) \n",
        "  for i in range(0,len(x)):\n",
        "    if x[i] >=0:\n",
        "      y[i] = 1.\n",
        "      p = np.cumsum(y)\n",
        "      return p\n",
        "###############################################\n",
        "n = np.arange(-20,21)\n",
        "x = degrau(n)-degrau(n-4)\n",
        "plt.stem(n, x,use_line_collection=True)\n",
        "plt.xlabel('n')\n",
        "plt.ylabel(' X [n]')\n",
        "plt.show"
      ],
      "execution_count": null,
      "outputs": [
        {
          "output_type": "execute_result",
          "data": {
            "text/plain": [
              "<function matplotlib.pyplot.show>"
            ]
          },
          "metadata": {
            "tags": []
          },
          "execution_count": 6
        },
        {
          "output_type": "display_data",
          "data": {
            "image/png": "[encoded data removed]",
            "text/plain": [
              "<Figure size 432x288 with 1 Axes>"
            ]
          },
          "metadata": {
            "tags": [],
            "needs_background": "light"
          }
        }
      ]
    },
    {
      "cell_type": "code",
      "metadata": {
        "id": "e7f2DHZ9b4Q5",
        "colab": {
          "base_uri": "https://localhost:8080/",
          "height": 296
        },
        "outputId": "fe640d51-51a3-4e03-c626-c05e3dfb68a6"
      },
      "source": [
        "import numpy as np\n",
        "import matplotlib.pylab as plt\n",
        "from pylab import *\n",
        "#Definição da função degrau \n",
        "def degrau(x):\n",
        "  y = np.zeros(len(x)) \n",
        "  for i in range(0,len(x)):\n",
        "    if x[i] >=0:\n",
        "      y[i] = 1.\n",
        "      p = np.cumsum(y)\n",
        "      return p\n",
        "###############################################\n",
        "#Parte Par\n",
        "n = np.arange(-20,21)\n",
        "xe = 0.5*(degrau(n)-degrau(n-4)+degrau(-n)-degrau(-n-4))\n",
        "plt.stem(n,x,use_line_collection=True)\n",
        "plt.xlabel('n')\n",
        "plt.ylabel(' Xe [n]')\n",
        "plt.show"
      ],
      "execution_count": null,
      "outputs": [
        {
          "output_type": "execute_result",
          "data": {
            "text/plain": [
              "<function matplotlib.pyplot.show>"
            ]
          },
          "metadata": {
            "tags": []
          },
          "execution_count": 7
        },
        {
          "output_type": "display_data",
          "data": {
            "image/png": "[encoded data removed]",
            "text/plain": [
              "<Figure size 432x288 with 1 Axes>"
            ]
          },
          "metadata": {
            "tags": [],
            "needs_background": "light"
          }
        }
      ]
    },
    {
      "cell_type": "code",
      "metadata": {
        "colab": {
          "base_uri": "https://localhost:8080/",
          "height": 296
        },
        "id": "olM1IKi9j8_n",
        "outputId": "25c54136-8863-4c41-8822-0cc159a1403d"
      },
      "source": [
        "import numpy as np\n",
        "import matplotlib.pylab as plt\n",
        "from pylab import *\n",
        "#Definição da função degrau \n",
        "def degrau(x):\n",
        "  y = np.zeros(len(x)) \n",
        "  for i in range(0,len(x)):\n",
        "    if x[i] >=0:\n",
        "      y[i] = 1.\n",
        "      p = np.cumsum(y)\n",
        "      return p\n",
        "###############################################\n",
        "#Parte ímpar\n",
        "n = np.arange(-20,21)\n",
        "xo = 0.5*(degrau(n)-degrau(n-4)-degrau(-n)+degrau(-n-4))\n",
        "plt.stem(n,x,use_line_collection=True)\n",
        "plt.xlabel('n')\n",
        "plt.ylabel(' Xo [n]')\n",
        "plt.show"
      ],
      "execution_count": null,
      "outputs": [
        {
          "output_type": "execute_result",
          "data": {
            "text/plain": [
              "<function matplotlib.pyplot.show>"
            ]
          },
          "metadata": {
            "tags": []
          },
          "execution_count": 8
        },
        {
          "output_type": "display_data",
          "data": {
            "image/png": "[encoded data removed]",
            "text/plain": [
              "<Figure size 432x288 with 1 Axes>"
            ]
          },
          "metadata": {
            "tags": [],
            "needs_background": "light"
          }
        }
      ]
    },
    {
      "cell_type": "markdown",
      "metadata": {
        "id": "aSsrWCgOkQCO"
      },
      "source": [
        "###1.4.2 $ x[n] = e^{\\frac{-4}{n}}u[n]$"
      ]
    },
    {
      "cell_type": "code",
      "metadata": {
        "colab": {
          "base_uri": "https://localhost:8080/",
          "height": 296
        },
        "id": "ZtIHkenhkSSP",
        "outputId": "348bbf45-f6f3-429d-8b3b-2d682c2ce3c5"
      },
      "source": [
        "import numpy as np\n",
        "import matplotlib.pylab as plt\n",
        "from pylab import *\n",
        "def degrau(x):\n",
        "  y = np.zeros(len(x)) \n",
        "  for i in range(0,len(x)):\n",
        "    if x[i] >=0:\n",
        "      y[i] = 1.\n",
        "      p = np.cumsum(y)\n",
        "      return p\n",
        "###############################################\n",
        "n = np.arange(-20,21)\n",
        "x = exp(-n/4)*degrau(n)\n",
        "plt.stem(n,x,use_line_collection=True)\n",
        "plt.xlabel('n')\n",
        "plt.ylabel(' X [n]')\n",
        "plt.show"
      ],
      "execution_count": null,
      "outputs": [
        {
          "output_type": "execute_result",
          "data": {
            "text/plain": [
              "<function matplotlib.pyplot.show>"
            ]
          },
          "metadata": {
            "tags": []
          },
          "execution_count": 9
        },
        {
          "output_type": "display_data",
          "data": {
            "image/png": "[encoded data removed]",
            "text/plain": [
              "<Figure size 432x288 with 1 Axes>"
            ]
          },
          "metadata": {
            "tags": [],
            "needs_background": "light"
          }
        }
      ]
    },
    {
      "cell_type": "code",
      "metadata": {
        "colab": {
          "base_uri": "https://localhost:8080/",
          "height": 296
        },
        "id": "AWtDuB2Xn3_Q",
        "outputId": "c766e1fe-28d0-4e70-c01c-f74fe30c21a4"
      },
      "source": [
        "import numpy as np\n",
        "import matplotlib.pylab as plt\n",
        "from pylab import *\n",
        "#Definição da função degrau \n",
        "def degrau(x):\n",
        "  y = np.zeros(len(x)) \n",
        "  for i in range(0,len(x)):\n",
        "    if x[i] >=0:\n",
        "      y[i] = 1.\n",
        "      p = np.cumsum(y)\n",
        "      return p\n",
        "###############################################\n",
        "#Parte par\n",
        "n = np.arange(-20,21)\n",
        "xe = 0.5*(exp(-n/4)*degrau(n) + exp(n/4)*degrau(-n))\n",
        "plt.stem(n,x,use_line_collection=True)\n",
        "plt.xlabel('n')\n",
        "plt.ylabel(' Xe [n]')\n",
        "plt.show"
      ],
      "execution_count": null,
      "outputs": [
        {
          "output_type": "execute_result",
          "data": {
            "text/plain": [
              "<function matplotlib.pyplot.show>"
            ]
          },
          "metadata": {
            "tags": []
          },
          "execution_count": 10
        },
        {
          "output_type": "display_data",
          "data": {
            "image/png": "[encoded data removed]",
            "text/plain": [
              "<Figure size 432x288 with 1 Axes>"
            ]
          },
          "metadata": {
            "tags": [],
            "needs_background": "light"
          }
        }
      ]
    },
    {
      "cell_type": "code",
      "metadata": {
        "colab": {
          "base_uri": "https://localhost:8080/",
          "height": 296
        },
        "id": "SlzVckLkpM6Q",
        "outputId": "2739b226-3d69-4fbc-dacc-a4b2be6949dd"
      },
      "source": [
        "import numpy as np\n",
        "import matplotlib.pylab as plt\n",
        "from pylab import *\n",
        "#Definição da função degrau \n",
        "def degrau(x):\n",
        "  y = np.zeros(len(x)) \n",
        "  for i in range(0,len(x)):\n",
        "    if x[i] >=0:\n",
        "      y[i] = 1.\n",
        "      p = np.cumsum(y)\n",
        "      return p\n",
        "###############################################\n",
        "#Parte ímpar\n",
        "n = np.arange(-20,21)\n",
        "xo = 0.5*(exp(-n/4)*degrau(n) - exp(n/4)*degrau(-n))\n",
        "plt.stem(n,x,use_line_collection=True)\n",
        "plt.xlabel('n')\n",
        "plt.ylabel(' Xo [n]')\n",
        "plt.show"
      ],
      "execution_count": null,
      "outputs": [
        {
          "output_type": "execute_result",
          "data": {
            "text/plain": [
              "<function matplotlib.pyplot.show>"
            ]
          },
          "metadata": {
            "tags": []
          },
          "execution_count": 11
        },
        {
          "output_type": "display_data",
          "data": {
            "image/png": "[encoded data removed]",
            "text/plain": [
              "<Figure size 432x288 with 1 Axes>"
            ]
          },
          "metadata": {
            "tags": [],
            "needs_background": "light"
          }
        }
      ]
    },
    {
      "cell_type": "markdown",
      "metadata": {
        "id": "6RMHg1gcpYAF"
      },
      "source": [
        "### 1.4.3 $cos(\\frac{2n\\pi}{4}) $"
      ]
    },
    {
      "cell_type": "code",
      "metadata": {
        "colab": {
          "base_uri": "https://localhost:8080/",
          "height": 296
        },
        "id": "cVIM1XH9pbHF",
        "outputId": "81765bf4-2e44-4735-b1fd-f1d94bb16925"
      },
      "source": [
        "import numpy as np\n",
        "import matplotlib.pylab as plt\n",
        "from pylab import *\n",
        "###############################################\n",
        "n = np.arange(-20,21)\n",
        "x = np.cos(2*pi*n/4)\n",
        "plt.stem(n,x,use_line_collection=True)\n",
        "plt.xlabel('n')\n",
        "plt.ylabel(' X [n]')\n",
        "plt.show"
      ],
      "execution_count": null,
      "outputs": [
        {
          "output_type": "execute_result",
          "data": {
            "text/plain": [
              "<function matplotlib.pyplot.show>"
            ]
          },
          "metadata": {
            "tags": []
          },
          "execution_count": 12
        },
        {
          "output_type": "display_data",
          "data": {
            "image/png": "[encoded data removed]",
            "text/plain": [
              "<Figure size 432x288 with 1 Axes>"
            ]
          },
          "metadata": {
            "tags": [],
            "needs_background": "light"
          }
        }
      ]
    },
    {
      "cell_type": "code",
      "metadata": {
        "colab": {
          "base_uri": "https://localhost:8080/",
          "height": 296
        },
        "id": "jK4ZuqpJr7LQ",
        "outputId": "865c3775-52bd-423c-ef49-e4080bad12aa"
      },
      "source": [
        "import numpy as np\n",
        "import matplotlib.pylab as plt\n",
        "from pylab import *\n",
        "###############################################\n",
        "#Parte par\n",
        "n = np.arange(-20,21)\n",
        "xe = 0.5*(np.cos(2*pi*n/4) + np.cos(-2*pi*n/4))\n",
        "plt.stem(n,x,use_line_collection=True)\n",
        "plt.xlabel('n')\n",
        "plt.ylabel(' Xe [n]')\n",
        "plt.show"
      ],
      "execution_count": null,
      "outputs": [
        {
          "output_type": "execute_result",
          "data": {
            "text/plain": [
              "<function matplotlib.pyplot.show>"
            ]
          },
          "metadata": {
            "tags": []
          },
          "execution_count": 13
        },
        {
          "output_type": "display_data",
          "data": {
            "image/png": "[encoded data removed]",
            "text/plain": [
              "<Figure size 432x288 with 1 Axes>"
            ]
          },
          "metadata": {
            "tags": [],
            "needs_background": "light"
          }
        }
      ]
    },
    {
      "cell_type": "code",
      "metadata": {
        "colab": {
          "base_uri": "https://localhost:8080/",
          "height": 296
        },
        "id": "Kj1bNzxKsQpL",
        "outputId": "a1520157-ab66-419d-9dbf-718f1f65df88"
      },
      "source": [
        "import numpy as np\n",
        "import matplotlib.pylab as plt\n",
        "from pylab import *\n",
        "###############################################\n",
        "#Parte ímpar\n",
        "n = np.arange(-20,21)\n",
        "xo = 0.5*(np.cos(2*pi*n/4) - np.cos(-2*pi*n/4))\n",
        "plt.stem(n,x,use_line_collection=True)\n",
        "plt.xlabel('n')\n",
        "plt.ylabel(' Xo [n]')\n",
        "plt.show"
      ],
      "execution_count": null,
      "outputs": [
        {
          "output_type": "execute_result",
          "data": {
            "text/plain": [
              "<function matplotlib.pyplot.show>"
            ]
          },
          "metadata": {
            "tags": []
          },
          "execution_count": 14
        },
        {
          "output_type": "display_data",
          "data": {
            "image/png": "[encoded data removed]",
            "text/plain": [
              "<Figure size 432x288 with 1 Axes>"
            ]
          },
          "metadata": {
            "tags": [],
            "needs_background": "light"
          }
        }
      ]
    },
    {
      "cell_type": "markdown",
      "metadata": {
        "id": "S84M0pb2b4Q6"
      },
      "source": []
    },
    {
      "cell_type": "markdown",
      "metadata": {
        "id": "gkPoRbFpqxMC"
      },
      "source": [
        "## 1.5 Sinais Periódicos"
      ]
    },
    {
      "cell_type": "code",
      "metadata": {
        "id": "A9F900GCq1Eo"
      },
      "source": [
        "n = np.arange(-20,21)"
      ],
      "execution_count": null,
      "outputs": []
    },
    {
      "cell_type": "markdown",
      "metadata": {
        "id": "Lwb7eiXsq3ZI"
      },
      "source": [
        "### 1.5.1 $x[n] = cos(\\frac{2\\pi n}{10})$"
      ]
    },
    {
      "cell_type": "markdown",
      "metadata": {
        "id": "p9eHOXF8rVZg"
      },
      "source": [
        "Da aplicação direta da fórmula de $cos(\\frac{2\\pi n}{N_0})$, temos que $N_0 = 10$.\n",
        "\n",
        "\n",
        "\n"
      ]
    },
    {
      "cell_type": "code",
      "metadata": {
        "id": "JHpETzgRsQHU"
      },
      "source": [
        "y = np.cos(2 * np.pi * n / 10)"
      ],
      "execution_count": null,
      "outputs": []
    },
    {
      "cell_type": "code",
      "metadata": {
        "colab": {
          "base_uri": "https://localhost:8080/",
          "height": 283
        },
        "id": "f6iQURrTstjx",
        "outputId": "0552df69-ea47-42da-975d-dd01942025a5"
      },
      "source": [
        "plt.stem(n, y, use_line_collection=True)\n",
        "ax = plt.gca()\n",
        "ax.annotate(r'$N_0$', xy=(-5, 1.2), xytext=(-5, 1.4), xycoords='data', \n",
        "            fontsize=12, ha='center', va='bottom',\n",
        "            bbox=dict(boxstyle='square', fc='white'),\n",
        "            arrowprops=dict(arrowstyle='-[, widthB=3.2, lengthB=0.5', lw=2.0))\n",
        "plt.xlabel('n')\n",
        "plt.ylabel('x[n]')\n",
        "plt.ylim(-2, 2)\n",
        "\n",
        "plt.show()"
      ],
      "execution_count": null,
      "outputs": [
        {
          "output_type": "display_data",
          "data": {
            "image/png": "[encoded data removed]",
            "text/plain": [
              "<Figure size 432x288 with 1 Axes>"
            ]
          },
          "metadata": {
            "tags": [],
            "needs_background": "light"
          }
        }
      ]
    },
    {
      "cell_type": "markdown",
      "metadata": {
        "id": "z8Mto3aSuDdA"
      },
      "source": [
        "É possível observar o período de 10 através dos picos ou dos vales do sinal."
      ]
    },
    {
      "cell_type": "markdown",
      "metadata": {
        "id": "b7LA4QeQ7wsz"
      },
      "source": [
        "### 1.5.2 $x[n] = cos(\\frac{2\\pi n}{5}) + cos(\\frac{2\\pi n}{7})$"
      ]
    },
    {
      "cell_type": "markdown",
      "metadata": {
        "id": "VdpA6Cwh7615"
      },
      "source": [
        "$N_0$ = M.M.C(5, 7) = 35"
      ]
    },
    {
      "cell_type": "code",
      "metadata": {
        "id": "oBeZJmk18KD6"
      },
      "source": [
        "y = np.cos(2 * np.pi * n / 5) + np.cos(2 * np.pi * n / 7)"
      ],
      "execution_count": null,
      "outputs": []
    },
    {
      "cell_type": "code",
      "metadata": {
        "colab": {
          "base_uri": "https://localhost:8080/",
          "height": 284
        },
        "id": "hGfVneF18Q7C",
        "outputId": "5e0652d2-acda-4498-bf23-ff49bf9302e3"
      },
      "source": [
        "plt.stem(n, y, use_line_collection=True)\n",
        "ax = plt.gca()\n",
        "ax.annotate(r'$N_0$', xy=(-2.5, 2.5), xytext=(-2.5, 2.7), xycoords='data', \n",
        "            fontsize=12, ha='center', va='bottom',\n",
        "            bbox=dict(boxstyle='square', fc='white'),\n",
        "            arrowprops=dict(arrowstyle='-[, widthB=11, lengthB=0.5', lw=2.0))\n",
        "plt.xlabel('n')\n",
        "plt.ylabel('x[n]')\n",
        "plt.ylim(-3, 3)\n",
        "\n",
        "plt.show()"
      ],
      "execution_count": null,
      "outputs": [
        {
          "output_type": "display_data",
          "data": {
            "image/png": "[encoded data removed]",
            "text/plain": [
              "<Figure size 432x288 with 1 Axes>"
            ]
          },
          "metadata": {
            "tags": [],
            "needs_background": "light"
          }
        }
      ]
    },
    {
      "cell_type": "markdown",
      "metadata": {
        "id": "RGWloLMA85yJ"
      },
      "source": [
        "É possível observar o período de 35 através dos picos do sinal."
      ]
    },
    {
      "cell_type": "markdown",
      "metadata": {
        "id": "97xzrp4p-QBp"
      },
      "source": [
        "### 1.5.3 $x[n] = e^{\\frac{2\\pi j n }{20}} + e^{\\frac{-2\\pi j n }{20}}$"
      ]
    },
    {
      "cell_type": "markdown",
      "metadata": {
        "id": "NEbUm8sh-hph"
      },
      "source": [
        "$x[n] = e^{\\frac{2\\pi j n }{20}} + e^{\\frac{-2\\pi j n }{20}} = 2 \\frac{e^{\\frac{2\\pi j n }{20}} + e^{\\frac{-2\\pi j n }{20}}}{2} = 2 cos(\\frac{2\\pi n}{20})$\n",
        "\n",
        "Obtemos $N_0 = 20$."
      ]
    },
    {
      "cell_type": "code",
      "metadata": {
        "id": "Yngy7xpf_DGC"
      },
      "source": [
        "y = 2 * np.cos(2 * np.pi * n / 20) "
      ],
      "execution_count": null,
      "outputs": []
    },
    {
      "cell_type": "code",
      "metadata": {
        "colab": {
          "base_uri": "https://localhost:8080/",
          "height": 284
        },
        "id": "F5drEfdN_GBh",
        "outputId": "cb4ef505-e572-48b2-dcbe-c6e748e841ad"
      },
      "source": [
        "plt.stem(n, y, use_line_collection=True)\n",
        "ax = plt.gca()\n",
        "ax.annotate(r'$N_0$', xy=(-10, 2.5), xytext=(-10, 2.7), xycoords='data', \n",
        "            fontsize=12, ha='center', va='bottom',\n",
        "            bbox=dict(boxstyle='square', fc='white'),\n",
        "            arrowprops=dict(arrowstyle='-[, widthB=6.5, lengthB=0.5', lw=2.0))\n",
        "plt.xlabel('n')\n",
        "plt.ylabel('x[n]')\n",
        "plt.ylim(-3, 3)\n",
        "\n",
        "plt.show()"
      ],
      "execution_count": null,
      "outputs": [
        {
          "output_type": "display_data",
          "data": {
            "image/png": "[encoded data removed]",
            "text/plain": [
              "<Figure size 432x288 with 1 Axes>"
            ]
          },
          "metadata": {
            "tags": [],
            "needs_background": "light"
          }
        }
      ]
    },
    {
      "cell_type": "markdown",
      "metadata": {
        "id": "MgbUHGJH_XSx"
      },
      "source": [
        "É possível observar o período de 20 através dos picos do sinal."
      ]
    },
    {
      "cell_type": "markdown",
      "metadata": {
        "id": "18jF0kWNcLaE"
      },
      "source": [
        "## 1.6 Energia e Potência de Sinal"
      ]
    },
    {
      "cell_type": "markdown",
      "metadata": {
        "id": "aAU78oI1-iVq"
      },
      "source": [
        "[Texto completo no Google Drive.](https://drive.google.com/file/d/1taAoVC_c-cGSQvttWm-UoBg6jQtNzRbI/view?usp=sharing)"
      ]
    },
    {
      "cell_type": "markdown",
      "metadata": {
        "id": "doTqd6wwcTm-"
      },
      "source": [
        "## 1.7 Energia e Potência de Sinal"
      ]
    },
    {
      "cell_type": "markdown",
      "metadata": {
        "id": "cJPWc5t3-rUi"
      },
      "source": [
        "Para um sinal de tempo discreto,\n",
        "$P_x = \\lim_{N\\to\\infty} \\frac{1}{2N+1}\\sum_{n=-N}^{N}|x[n]|^2$.\n",
        "Portanto, teremos que:\n",
        "1. $P_x = \\lim_{N\\to\\infty} \\frac{1}{2N+1}\\sum_{n=-N}^{N}|A|^2$\n",
        "$= \\lim_{N\\to\\infty} \\frac{1}{2N+1}A^2 (2N + 1)=A^2$\n",
        "---\n",
        "2. $P_x = \\lim_{N\\to\\infty} \\frac{1}{2N+1}\\sum_{n=-N}^{N}|\\mu[n]|^2$\n",
        "$= \\lim_{N\\to\\infty} \\frac{N + 1}{2N+1}\\frac{1/N}{1/N}=\\lim_{N\\to\\infty} \\frac{1 + 1/N}{2+1/N}=\\frac{1}{2}$\n",
        "---\n",
        "3. $\\delta_N[n]=\\sum_{k=-\\infty}^{\\infty}\\delta[n-kN] \\rightarrow P_x = \\lim_{N\\to\\infty} \\frac{1}{2N+1}\\sum_{n=-N}^{N}1=\\lim_{N\\to\\infty}\\frac{2N+1}{2N+1}=1$\n",
        "---\n",
        "4. $rmp[n]=\\sum_{k=0}^{\\infty}k\\delta[n-k] \\rightarrow P_x = \\lim_{N\\to\\infty} \\frac{1}{2N+1}\\sum_{n=0}^{N}|k|^2=\\lim_{N\\to\\infty}\\frac{1+4+9+...+(N-1)^2+N^2}{2N+1}\\frac{1/N}{1/N}=\\lim_{N\\to\\infty}\\frac{\\frac{1}{N}+\\frac{4}{N}+\\frac{9}{N}+...+\\frac{(N-1)^2}{N} + N}{2N+1}=\\infty$"
      ]
    },
    {
      "cell_type": "markdown",
      "metadata": {
        "id": "sItNOilS_eHq"
      },
      "source": [
        "# 2 Séries de Fourier de Tempo Discreto"
      ]
    },
    {
      "cell_type": "markdown",
      "metadata": {
        "id": "U7q-YT-eU_54"
      },
      "source": [
        "2.1.1\n",
        "---\n",
        "Série de fourier de $x[n]=\\delta_{4}(n)$\n",
        "\n",
        "---\n",
        "A serie de fourier é dada por $X[k]=\\frac{1}{N}\\sum_{n=0}^{N} x[n]e^{-jkW_{0}n}$\n",
        "\n",
        "---\n",
        "$W_{o}=\\frac{2\\pi}{N}$\n",
        "\n",
        "---\n",
        "$N=4$, substituindo na equação:\n",
        "\n",
        "---\n",
        "\n",
        "$X[k]=\\frac{1}{4}\\sum_{n=0}^{4} x[n]e^{-jk\\frac{\\pi}{2}n}$\n",
        "\n",
        "\n",
        "---\n",
        "$X[k]=\\frac{1}{4}\\sum_{n=0}^{4} x[0]e^{0}$\n",
        "\n",
        "\n",
        "---\n",
        "$X[k]=\\frac{1}{4}$\n"
      ]
    },
    {
      "cell_type": "markdown",
      "metadata": {
        "id": "Rb9Jkv6HVjWX"
      },
      "source": [
        "2.1.2\n",
        "---\n",
        "\n",
        "Série de fourier de $x[n]=\\delta_{4}(n)\\delta_{4}(n-2)$\n",
        "\n",
        "---\n",
        "A serie de fourier é dada por $X[k]=\\frac{1}{N}\\sum_{n=0}^{N} x[n]e^{-jkW_{0}n}$\n",
        "\n",
        "---\n",
        "$W_{o}=\\frac{2\\pi}{N}$\n",
        "\n",
        "---\n",
        "$N=4$, substituindo na equação:\n",
        "\n",
        "---\n",
        "$X[k]=\\frac{1}{4}\\sum_{n=0}^{4} x[n]e^{-jk\\frac{\\pi}{2}n}$\n",
        "\n",
        "---\n",
        "$X[k]=\\frac{1}{4}(1-e^{-jk\\pi})$"
      ]
    },
    {
      "cell_type": "markdown",
      "metadata": {
        "id": "I4dyUDN8Zssm"
      },
      "source": [
        "## 2.2 Série de Fourier usando Computação Numérica"
      ]
    },
    {
      "cell_type": "markdown",
      "metadata": {
        "id": "4_ViQTwIlrHg"
      },
      "source": [
        "### 2.2.1 $x[n] = 6cos(\\frac{2\\pi n}{36}) $"
      ]
    },
    {
      "cell_type": "code",
      "metadata": {
        "colab": {
          "base_uri": "https://localhost:8080/",
          "height": 280
        },
        "id": "122N69DZlMx_",
        "outputId": "6af7dfdb-32b5-4cd2-b277-514bafd72c2b"
      },
      "source": [
        "import numpy as np\n",
        "import matplotlib.pyplot as plt\n",
        "\n",
        "n = np.linspace(0, 0.5, 500) # 500 números, de 0 a 0.5 \n",
        "xn = 6 * np.cos(2 * np.pi * n / 36) # definindo xn\n",
        "fft = np.fft.fft(xn) # definindo fft\n",
        "T = t[1] - t[0] # 0.001 -> 1/T = 1000\n",
        "N = s.size\n",
        "#f = np.linspace(0, 1 / T, N)\n",
        "# fornece os componentes de frequência correspondentes aos dados\n",
        "f = np.fft.fftfreq(len(s), T)\n",
        "frequencias = f[:N // 2]\n",
        "amplitudes = np.abs(fft)[:N // 2] * 1 / N\n",
        "plt.ylabel(\"Amplitude\")\n",
        "plt.xlabel(\"Frequência (Hz)\")\n",
        "plt.bar(frequencias, amplitudes, width=1.5)\n",
        "plt.savefig('fft_freq.png')\n",
        "plt.show()"
      ],
      "execution_count": null,
      "outputs": [
        {
          "output_type": "display_data",
          "data": {
            "image/png": "[encoded data removed]",
            "text/plain": [
              "<Figure size 432x288 with 1 Axes>"
            ]
          },
          "metadata": {
            "tags": [],
            "needs_background": "light"
          }
        }
      ]
    },
    {
      "cell_type": "markdown",
      "metadata": {
        "id": "1P9smM2EpQXa"
      },
      "source": [
        "### 2.2.2 $x[n] = sen(\\frac{2\\pi (n - 2)}{12})$"
      ]
    },
    {
      "cell_type": "code",
      "metadata": {
        "colab": {
          "base_uri": "https://localhost:8080/",
          "height": 280
        },
        "id": "vfQbj-YbmHyf",
        "outputId": "9297d212-e37a-467b-887d-401d09aa0cae"
      },
      "source": [
        "import numpy as np\n",
        "import matplotlib.pyplot as plt\n",
        "\n",
        "n = np.linspace(0, 0.5, 500) # 500 números, de 0 a 0.5 \n",
        "xn = 10 * np.sin(2 * np.pi * (n - 2) / 12) # definindo xn\n",
        "fft = np.fft.fft(xn) # definindo fft\n",
        "T = t[1] - t[0] # 0.001 -> 1/T = 1000\n",
        "N = s.size\n",
        "#f = np.linspace(0, 1 / T, N)\n",
        "# fornece os componentes de frequência correspondentes aos dados\n",
        "f = np.fft.fftfreq(len(s), T)\n",
        "frequencias = f[:N // 2]\n",
        "amplitudes = np.abs(fft)[:N // 2] * 1 / N\n",
        "plt.ylabel(\"Amplitude\")\n",
        "plt.xlabel(\"Frequência (Hz)\")\n",
        "plt.bar(frequencias, amplitudes, width=1.5)\n",
        "plt.savefig('fft_freq.png')\n",
        "plt.show()"
      ],
      "execution_count": null,
      "outputs": [
        {
          "output_type": "display_data",
          "data": {
            "image/png": "[encoded data removed]",
            "text/plain": [
              "<Figure size 432x288 with 1 Axes>"
            ]
          },
          "metadata": {
            "tags": [],
            "needs_background": "light"
          }
        }
      ]
    },
    {
      "cell_type": "markdown",
      "metadata": {
        "id": "XPqUwRmoplVT"
      },
      "source": [
        "### 2.2.3 $x[n] = (n - 8)sen(\\frac{2\\pi n}{6}) $"
      ]
    },
    {
      "cell_type": "code",
      "metadata": {
        "colab": {
          "base_uri": "https://localhost:8080/",
          "height": 280
        },
        "id": "EOfuKYSWmgaM",
        "outputId": "1f0d5701-d382-413c-a7ea-54920b69e7d1"
      },
      "source": [
        "import numpy as np\n",
        "import matplotlib.pyplot as plt\n",
        "\n",
        "n = np.linspace(0, 0.5, 500) # 500 números, de 0 a 0.5 \n",
        "xn = (n / 8) * np.sin(2 * np.pi * n / 6) # definindo xn\n",
        "fft = np.fft.fft(xn) # definindo fft\n",
        "T = t[1] - t[0] # 0.001 -> 1/T = 1000\n",
        "N = s.size\n",
        "#f = np.linspace(0, 1 / T, N)\n",
        "# fornece os componentes de frequência correspondentes aos dados\n",
        "f = np.fft.fftfreq(len(s), T)\n",
        "frequencias = f[:N // 2]\n",
        "amplitudes = np.abs(fft)[:N // 2] * 1 / N\n",
        "plt.ylabel(\"Amplitude\")\n",
        "plt.xlabel(\"Frequência (Hz)\")\n",
        "plt.bar(frequencias, amplitudes, width=1.5)\n",
        "plt.savefig('fft_freq.png')\n",
        "plt.show()"
      ],
      "execution_count": null,
      "outputs": [
        {
          "output_type": "display_data",
          "data": {
            "image/png": "[encoded data removed]",
            "text/plain": [
              "<Figure size 432x288 with 1 Axes>"
            ]
          },
          "metadata": {
            "tags": [],
            "needs_background": "light"
          }
        }
      ]
    },
    {
      "cell_type": "code",
      "metadata": {
        "colab": {
          "base_uri": "https://localhost:8080/",
          "height": 280
        },
        "id": "YN6byVg-mxKd",
        "outputId": "8f4761d1-f941-434e-94c1-7ba905d5e918"
      },
      "source": [
        "import numpy as np\n",
        "import matplotlib.pyplot as plt\n",
        "\n",
        "n = np.linspace(0, 0.5, 500) # 500 números, de 0 a 0.5 \n",
        "xn = exp(2j * n * np.pi) # definindo xn\n",
        "fft = np.fft.fft(xn) # definindo fft\n",
        "T = t[1] - t[0] # 0.001 -> 1/T = 1000\n",
        "N = s.size\n",
        "#f = np.linspace(0, 1 / T, N)\n",
        "# fornece os componentes de frequência correspondentes aos dados\n",
        "f = np.fft.fftfreq(len(s), T)\n",
        "frequencias = f[:N // 2]\n",
        "amplitudes = np.abs(fft)[:N // 2] * 1 / N\n",
        "plt.ylabel(\"Amplitude\")\n",
        "plt.xlabel(\"Frequência (Hz)\")\n",
        "plt.bar(frequencias, amplitudes, width=1.5)\n",
        "plt.savefig('fft_freq.png')\n",
        "plt.show()"
      ],
      "execution_count": null,
      "outputs": [
        {
          "output_type": "display_data",
          "data": {
            "image/png": "[encoded data removed]",
            "text/plain": [
              "<Figure size 432x288 with 1 Axes>"
            ]
          },
          "metadata": {
            "tags": [],
            "needs_background": "light"
          }
        }
      ]
    },
    {
      "cell_type": "markdown",
      "metadata": {
        "id": "Ut8YEMFwpwjO"
      },
      "source": [
        "### 2.2.5 $x[n] = cos(\\frac{2\\pi n}{14}) - cos(\\frac{2\\pi (n - 1)}{16})  $"
      ]
    },
    {
      "cell_type": "code",
      "metadata": {
        "colab": {
          "base_uri": "https://localhost:8080/",
          "height": 280
        },
        "id": "3APbXMkOoagL",
        "outputId": "e19f04e8-e094-4794-f8eb-6cc811cb20bb"
      },
      "source": [
        "import numpy as np\n",
        "import matplotlib.pyplot as plt\n",
        "\n",
        "n = np.linspace(0, 0.5, 500) # 500 números, de 0 a 0.5 \n",
        "xn = np.cos(2 * np.pi * n / 14) - np.cos( 2 * np.pi * (n - 1) / 16) # definindo xn\n",
        "fft = np.fft.fft(xn) # definindo fft\n",
        "T = t[1] - t[0] # 0.001 -> 1/T = 1000\n",
        "N = s.size\n",
        "#f = np.linspace(0, 1 / T, N)\n",
        "# fornece os componentes de frequência correspondentes aos dados\n",
        "f = np.fft.fftfreq(len(s), T)\n",
        "frequencias = f[:N // 2]\n",
        "amplitudes = np.abs(fft)[:N // 2] * 1 / N\n",
        "plt.ylabel(\"Amplitude\")\n",
        "plt.xlabel(\"Frequência (Hz)\")\n",
        "plt.bar(frequencias, amplitudes, width=1.5)\n",
        "plt.savefig('fft_freq.png')\n",
        "plt.show()"
      ],
      "execution_count": null,
      "outputs": [
        {
          "output_type": "display_data",
          "data": {
            "image/png": "[encoded data removed]",
            "text/plain": [
              "<Figure size 432x288 with 1 Axes>"
            ]
          },
          "metadata": {
            "tags": [],
            "needs_background": "light"
          }
        }
      ]
    },
    {
      "cell_type": "markdown",
      "metadata": {
        "id": "AJSnA91cqALC"
      },
      "source": [
        "### 2.2.6 $x[n] = sen(\\frac{33\\pi n}{32})\n",
        "$"
      ]
    },
    {
      "cell_type": "code",
      "metadata": {
        "colab": {
          "base_uri": "https://localhost:8080/",
          "height": 280
        },
        "id": "9BgHCNfpoqu1",
        "outputId": "d82b5aed-f3d5-4e19-d1c5-f56cea8cf57c"
      },
      "source": [
        "import numpy as np\n",
        "import matplotlib.pyplot as plt\n",
        "\n",
        "n = np.linspace(0, 0.5, 500) # 500 números, de 0 a 0.5 \n",
        "xn = - np.sin(33 * np.pi * n / 32) # definindo xn\n",
        "fft = np.fft.fft(xn) # definindo fft\n",
        "T = t[1] - t[0] # 0.001 -> 1/T = 1000\n",
        "N = s.size\n",
        "#f = np.linspace(0, 1 / T, N)\n",
        "# fornece os componentes de frequência correspondentes aos dados\n",
        "f = np.fft.fftfreq(len(s), T)\n",
        "frequencias = f[:N // 2]\n",
        "amplitudes = np.abs(fft)[:N // 2] * 1 / N\n",
        "plt.ylabel(\"Amplitude\")\n",
        "plt.xlabel(\"Frequência (Hz)\")\n",
        "plt.bar(frequencias, amplitudes, width=1.5)\n",
        "plt.savefig('fft_freq.png')\n",
        "plt.show()"
      ],
      "execution_count": null,
      "outputs": [
        {
          "output_type": "display_data",
          "data": {
            "image/png": "[encoded data removed]",
            "text/plain": [
              "<Figure size 432x288 with 1 Axes>"
            ]
          },
          "metadata": {
            "tags": [],
            "needs_background": "light"
          }
        }
      ]
    },
    {
      "cell_type": "markdown",
      "metadata": {
        "id": "TnDbEnh1_ssy"
      },
      "source": [
        "## 2.3 Série de Fourier usando Tabelas e Propriedades"
      ]
    },
    {
      "cell_type": "markdown",
      "metadata": {
        "id": "tpIYoykz_x4K"
      },
      "source": [
        "$X[k] = \\frac{7}{32}\\text{drcl}\\left(\\frac{k-16}{32}, 7\\right) \\therefore \n",
        "\\\\ \n",
        "\\mathfrak{F}^{-1}\\left\\{ X[k]\\right\\} = \\mathfrak{F}^{-1}\\left\\{\\frac{7}{32}\\text{drcl}\\left(\\frac{k-16}{32}, 7\\right)\\right\\} \\therefore\n",
        "\\\\\n",
        "x[n] = e^{j16n}\\mathfrak{F}^{-1}\\left\\{\\frac{7}{32}\\text{drcl}\\left(\\frac{k}{32}, 7\\right)\\right\\} \\therefore\n",
        "\\\\\n",
        "x[n] = e^{j16n} \\left( \\text{ret}_3[n] * \\delta_{32} [n]\\right)\n",
        "$"
      ]
    },
    {
      "cell_type": "markdown",
      "metadata": {
        "id": "NXumQRO8rPAd"
      },
      "source": [
        "## 2.4 Resposta de Sistemas Discretos a Excitações Periódicas"
      ]
    },
    {
      "cell_type": "markdown",
      "metadata": {
        "id": "kaILXPHV_cAM"
      },
      "source": [
        "[Texto completo no Google Drive.] https://drive.google.com/file/d/1taAoVC_c-cGSQvttWm-UoBg6jQtNzRbI/view?usp=sharing"
      ]
    },
    {
      "cell_type": "code",
      "metadata": {
        "colab": {
          "base_uri": "https://localhost:8080/",
          "height": 336
        },
        "id": "cjUAs2vBrN4d",
        "outputId": "a215c034-5158-4dd2-fa8f-4d048504574f"
      },
      "source": [
        "#plot entrada\n",
        "from pylab import *\n",
        "def DiracComb(n,N,N1): \n",
        "    x_n = np.zeros(n) \n",
        "    x_n[N1::N] = 1 \n",
        "    return x_n \n",
        "x = np.subtract(1, DiracComb(36,6,0))\n",
        "plt.stem(x) \n",
        "plt.plot"
      ],
      "execution_count": null,
      "outputs": [
        {
          "output_type": "stream",
          "text": [
            "/usr/local/lib/python3.7/dist-packages/ipykernel_launcher.py:8: UserWarning: In Matplotlib 3.3 individual lines on a stem plot will be added as a LineCollection instead of individual lines. This significantly improves the performance of a stem plot. To remove this warning and switch to the new behaviour, set the \"use_line_collection\" keyword argument to True.\n",
            "  \n"
          ],
          "name": "stderr"
        },
        {
          "output_type": "execute_result",
          "data": {
            "text/plain": [
              "<function matplotlib.pyplot.plot>"
            ]
          },
          "metadata": {
            "tags": []
          },
          "execution_count": 12
        },
        {
          "output_type": "display_data",
          "data": {
            "image/png": "[encoded data removed]",
            "text/plain": [
              "<Figure size 432x288 with 1 Axes>"
            ]
          },
          "metadata": {
            "tags": [],
            "needs_background": "light"
          }
        }
      ]
    },
    {
      "cell_type": "code",
      "metadata": {
        "colab": {
          "base_uri": "https://localhost:8080/",
          "height": 350
        },
        "id": "u2Moz441tUBK",
        "outputId": "e2e417aa-78e6-463e-c18b-a60d47cf003c"
      },
      "source": [
        "#plot saida\n",
        "#considerando y(n-1) = 0, conforme condição inicial explicitada na imagem em anexo, referente a questão 2.4 \n",
        "from pylab import *\n",
        "n = np.arange(0,36)\n",
        "def delta_n(n):\n",
        "    return where(n==6, 1, 0)\n",
        "y = - 2 * x\n",
        "plt.stem(n,y, linefmt = 'grey', markerfmt='D')\n",
        "plt.xlabel('N')\n",
        "plt.plot()"
      ],
      "execution_count": null,
      "outputs": [
        {
          "output_type": "stream",
          "text": [
            "/usr/local/lib/python3.7/dist-packages/ipykernel_launcher.py:8: UserWarning: In Matplotlib 3.3 individual lines on a stem plot will be added as a LineCollection instead of individual lines. This significantly improves the performance of a stem plot. To remove this warning and switch to the new behaviour, set the \"use_line_collection\" keyword argument to True.\n",
            "  \n"
          ],
          "name": "stderr"
        },
        {
          "output_type": "execute_result",
          "data": {
            "text/plain": [
              "[]"
            ]
          },
          "metadata": {
            "tags": []
          },
          "execution_count": 13
        },
        {
          "output_type": "display_data",
          "data": {
            "image/png": "[encoded data removed]",
            "text/plain": [
              "<Figure size 432x288 with 1 Axes>"
            ]
          },
          "metadata": {
            "tags": [],
            "needs_background": "light"
          }
        }
      ]
    },
    {
      "cell_type": "markdown",
      "metadata": {
        "id": "7I6ag5rgZSHP"
      },
      "source": [
        "## 2.5 Respostas de Sistemas Discretos a Excitações Periódicas"
      ]
    },
    {
      "cell_type": "markdown",
      "metadata": {
        "id": "6e-UzhMr4Nzd"
      },
      "source": [
        "A Figura abaixo mostra os cálculos realizados para a montagem do diagrama de blocos do sistema. O diagrama foi montado de duas formas diferentes: Mostrando cada entrada e cada operação realizada (dentre as quais estão multiplicações de constantes e deslocamentos no tempo); e, para uma simplificação dos resultados, calculando a Função de Transferência de todo o sistema e o tratando como um sistema LIT simples de uma entrada e uma saída."
      ]
    },
    {
      "cell_type": "markdown",
      "metadata": {
        "id": "OyFFDQ7SYGuI"
      },
      "source": [
        "![2-5 Lista 1.png](data:image/png;base64,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)"
      ]
    },
    {
      "cell_type": "markdown",
      "metadata": {
        "id": "se_X7Cil5VOa"
      },
      "source": [
        "Em seguida, foi necessário plotar o sinal de entrada fornecido pela questão. Para tanto, foi criada uma função para gerar um trem de impulsos (ou pente de Dirac) qualquer. Esta função recebe em sua entrada os seguintes parâmetros: o tamanho do eixo n no qual se deseja plotar o sinal; o período N do sinal; e o deslocamento N1 do pente de Dirac. "
      ]
    },
    {
      "cell_type": "markdown",
      "metadata": {
        "id": "okp6KElCZonL"
      },
      "source": [
        "#### Plotando $x[n]= \\delta_4[n] - \\delta_4[n-2]$"
      ]
    },
    {
      "cell_type": "code",
      "metadata": {
        "colab": {
          "base_uri": "https://localhost:8080/",
          "height": 353
        },
        "id": "bgupNPo4i4dO",
        "outputId": "72d75d8c-c394-4a51-ef6e-b28574f7b308"
      },
      "source": [
        "def DiracComb(n,N,N1): ## n é o tamanho do eixo n, N é o período do sinal e N1 é o deslocamento\n",
        "    x_n = np.zeros(n) # Gera um array de tamanho n preenchido com zeros\n",
        "    x_n[N1::N] = 1 # A partir do deslocamento, substitui zero por um a cada período da função\n",
        "    return x_n # Retorna o trem de impulsos\n",
        "x = np.subtract(DiracComb(50,4,0),DiracComb(50,4,2)) # Gera o sinal x[n]\n",
        "plt.stem(x) # Plota o sinal x[n]\n",
        "plt.xlabel(\"Tempo\")\n",
        "plt.plot"
      ],
      "execution_count": null,
      "outputs": [
        {
          "output_type": "stream",
          "text": [
            "/usr/local/lib/python3.7/dist-packages/ipykernel_launcher.py:6: UserWarning: In Matplotlib 3.3 individual lines on a stem plot will be added as a LineCollection instead of individual lines. This significantly improves the performance of a stem plot. To remove this warning and switch to the new behaviour, set the \"use_line_collection\" keyword argument to True.\n",
            "  \n"
          ],
          "name": "stderr"
        },
        {
          "output_type": "execute_result",
          "data": {
            "text/plain": [
              "<function matplotlib.pyplot.plot>"
            ]
          },
          "metadata": {
            "tags": []
          },
          "execution_count": 15
        },
        {
          "output_type": "display_data",
          "data": {
            "image/png": "[encoded data removed]",
            "text/plain": [
              "<Figure size 432x288 with 1 Axes>"
            ]
          },
          "metadata": {
            "tags": [],
            "needs_background": "light"
          }
        }
      ]
    },
    {
      "cell_type": "markdown",
      "metadata": {
        "id": "zLS6rIr47Foy"
      },
      "source": [
        "Por fim, a questão pede a geração do sinal de saída. Para tanto, foi suposto que o sistema estaria inicialmente em repouso, então para valores negativos de tempo a saída foi considerada como sendo nula. Em seguida, utilizou-se um laço para gerar os valores de $y[n]$, utilizando a equação $y[n-1] = y[n-1] + 4x[n-1]$."
      ]
    },
    {
      "cell_type": "markdown",
      "metadata": {
        "id": "6wc4prPQnvPf"
      },
      "source": [
        "#### Calcular a saída gerada por $x[n]$"
      ]
    },
    {
      "cell_type": "code",
      "metadata": {
        "colab": {
          "base_uri": "https://localhost:8080/",
          "height": 364
        },
        "id": "jpSAKJpQNcx5",
        "outputId": "63be280e-11d1-4be5-a610-452f2292fce5"
      },
      "source": [
        "y = np.zeros(50)\n",
        "# Supomos que o sistema está inicialmente em repouso, então y[n]=0, n<0\n",
        "# y[n] = y[n-1] + 4x[n-1]\n",
        "for i in range(50):\n",
        "  a = 2*y[i-1] # Gera y[n-1]\n",
        "  b = 4*x[i-1] # Gera x[n-1]\n",
        "  valor = a + b # Soma os valores\n",
        "  y[i] = (valor) # Armazena no vetor y, no tempo n\n",
        "plt.stem(y) # Plota o sinal\n",
        "plt.xlabel(\"Tempo\")\n",
        "plt.plot"
      ],
      "execution_count": null,
      "outputs": [
        {
          "output_type": "stream",
          "text": [
            "/usr/local/lib/python3.7/dist-packages/ipykernel_launcher.py:9: UserWarning: In Matplotlib 3.3 individual lines on a stem plot will be added as a LineCollection instead of individual lines. This significantly improves the performance of a stem plot. To remove this warning and switch to the new behaviour, set the \"use_line_collection\" keyword argument to True.\n",
            "  if __name__ == '__main__':\n"
          ],
          "name": "stderr"
        },
        {
          "output_type": "execute_result",
          "data": {
            "text/plain": [
              "<function matplotlib.pyplot.plot>"
            ]
          },
          "metadata": {
            "tags": []
          },
          "execution_count": 16
        },
        {
          "output_type": "display_data",
          "data": {
            "image/png": "[encoded data removed]",
            "text/plain": [
              "<Figure size 432x288 with 1 Axes>"
            ]
          },
          "metadata": {
            "tags": [],
            "needs_background": "light"
          }
        }
      ]
    }
  ]
}